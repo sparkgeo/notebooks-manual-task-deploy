{
 "cells": [
  {
   "cell_type": "code",
   "execution_count": null,
   "metadata": {
    "collapsed": true
   },
   "outputs": [],
   "source": [
    "## Run a Notebook on GBDX\n",
    "**Note:** Inputs on the GBDX platform are provided to the running container via a file mounted to `/mnt/work/input/ports.json`. The inputs can be read from there."
   ]
  },
  {
   "cell_type": "code",
   "execution_count": 3,
   "metadata": {},
   "outputs": [],
   "source": [
    "import os\n",
    "\n",
    "ports_file = \"/mnt/work/input/ports.json\"\n",
    "if os.path.exists(ports_file):\n",
    "    with open(ports_file, 'r') as ports:\n",
    "        INPUT_PARAMETERS = json.read(ports)\n",
    "else:\n",
    "    INPUT_PARAMETERS = {\n",
    "        \"input_string\": \"Jupyter\"\n",
    "    }"
   ]
  },
  {
   "cell_type": "code",
   "execution_count": null,
   "metadata": {},
   "outputs": [],
   "source": [
    "print(f\"Running from {INPUT_PARAMETERS['input_string']}\")"
   ]
  },
  {
   "cell_type": "markdown",
   "metadata": {},
   "source": [
    "**Note:** To run the notebook on GBDX, all the conda deps not part of the base image need to be installed during the task image build. To do this, dump the conda env to a file and download."
   ]
  },
  {
   "cell_type": "code",
   "execution_count": 1,
   "metadata": {},
   "outputs": [],
   "source": [
    "!conda env export > requirements.yml"
   ]
  }
 ],
 "metadata": {
  "kernelspec": {
   "display_name": "Python 3",
   "language": "python",
   "name": "python3"
  },
  "language_info": {
   "codemirror_mode": {
    "name": "ipython",
    "version": 3
   },
   "file_extension": ".py",
   "mimetype": "text/x-python",
   "name": "python",
   "nbconvert_exporter": "python",
   "pygments_lexer": "ipython3",
   "version": "3.6.6"
  }
 },
 "nbformat": 4,
 "nbformat_minor": 2
}